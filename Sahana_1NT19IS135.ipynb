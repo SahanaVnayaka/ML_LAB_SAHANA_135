{
 "cells": [
  {
   "cell_type": "code",
   "execution_count": 6,
   "id": "b09f2aa7",
   "metadata": {},
   "outputs": [
    {
     "name": "stdout",
     "output_type": "stream",
     "text": [
      "MEAN: 17.5\n"
     ]
    }
   ],
   "source": [
    "#mean\n",
    "def mean(list):\n",
    "    \n",
    "    sum=0\n",
    "    for i in list:\n",
    "        sum=sum+i\n",
    "        \n",
    "    mean=sum/len(list)\n",
    "    return mean\n",
    "list=(5,10,15,20,25,30)\n",
    "print(\"MEAN:\",mean(list))"
   ]
  },
  {
   "cell_type": "code",
   "execution_count": 7,
   "id": "f7293d1b",
   "metadata": {},
   "outputs": [
    {
     "name": "stdout",
     "output_type": "stream",
     "text": [
      "MEDIAN: 20\n"
     ]
    }
   ],
   "source": [
    "#median1\n",
    "\n",
    "s=(5,10,15,20,25,30)\n",
    "x=int(len(s)/2)\n",
    "if x%2==0:\n",
    "    result=(s[x]+s[x+1]/2)\n",
    "else:\n",
    "    result=s[x]\n",
    "print(\"MEDIAN:\",result)    "
   ]
  },
  {
   "cell_type": "code",
   "execution_count": 8,
   "id": "8dde83f7",
   "metadata": {},
   "outputs": [
    {
     "name": "stdout",
     "output_type": "stream",
     "text": [
      "MODE: 10\n"
     ]
    }
   ],
   "source": [
    "#mode\n",
    "s=(5,10,10,15,20,25,30)\n",
    "d={}\n",
    "for x in s:\n",
    "    if x in d:\n",
    "        d[x]=d[x]+1\n",
    "    else:\n",
    "        d[x]=1\n",
    "maxx=0\n",
    "for x in d:\n",
    "    if(d[x]>maxx):\n",
    "        maxx=d[x]\n",
    "        answer=x\n",
    "print(\"MODE:\",answer)        "
   ]
  },
  {
   "cell_type": "code",
   "execution_count": 9,
   "id": "60730d4a",
   "metadata": {},
   "outputs": [
    {
     "name": "stdout",
     "output_type": "stream",
     "text": [
      "VARIANCE: 72.91666666666667\n"
     ]
    }
   ],
   "source": [
    "#variance\n",
    "def variance(x):\n",
    "    answer=mean(x)\n",
    "    \n",
    "    sum=0\n",
    "    for s in x:\n",
    "        sum+=(answer-s)**2\n",
    "        \n",
    "    return sum/len(x)\n",
    "x=(5,10,15,20,25,30)\n",
    "print(\"VARIANCE:\",variance(x))"
   ]
  },
  {
   "cell_type": "code",
   "execution_count": 10,
   "id": "b6dd8efa",
   "metadata": {},
   "outputs": [
    {
     "name": "stdout",
     "output_type": "stream",
     "text": [
      "STANDARD DEVIATION: 8.539125638299666\n"
     ]
    }
   ],
   "source": [
    "#standard deviation\n",
    "def standevi(x):\n",
    "    temp=variance(x)\n",
    "    return temp**0.5\n",
    "x=(5,10,15,20,25,30)\n",
    "print(\"STANDARD DEVIATION:\",standevi(x))"
   ]
  },
  {
   "cell_type": "code",
   "execution_count": 17,
   "id": "d72149ff",
   "metadata": {},
   "outputs": [
    {
     "name": "stdout",
     "output_type": "stream",
     "text": [
      "0.0\n",
      "0.2\n",
      "0.4\n",
      "0.6\n",
      "0.8\n",
      "1.0\n"
     ]
    }
   ],
   "source": [
    "#normalisation\n",
    "def normal(x):\n",
    "    min=x[0]\n",
    "    max=x[0]\n",
    "    for s in x:\n",
    "        if(s>max):\n",
    "            max=s\n",
    "        elif(s<min):\n",
    "            min=s\n",
    "    for s in x:\n",
    "        print((s-min)/(max-min))\n",
    "        \n",
    "x=(5,10,15,20,25,30)\n",
    "normal(x)\n",
    "        "
   ]
  },
  {
   "cell_type": "code",
   "execution_count": 18,
   "id": "730f316c",
   "metadata": {},
   "outputs": [
    {
     "name": "stdout",
     "output_type": "stream",
     "text": [
      "-1.4638501094227996\n",
      "-0.8783100656536798\n",
      "-0.2927700218845599\n",
      "0.2927700218845599\n",
      "0.8783100656536798\n",
      "1.4638501094227996\n"
     ]
    }
   ],
   "source": [
    "#standardization\n",
    "def stand(x):\n",
    "    for s in x:\n",
    "        print((s-mean(x))/standevi(x))\n",
    "x=(5,10,15,20,25,30) \n",
    "stand(x)"
   ]
  },
  {
   "cell_type": "code",
   "execution_count": null,
   "id": "9c2189f4",
   "metadata": {},
   "outputs": [],
   "source": []
  }
 ],
 "metadata": {
  "kernelspec": {
   "display_name": "Python 3 (ipykernel)",
   "language": "python",
   "name": "python3"
  },
  "language_info": {
   "codemirror_mode": {
    "name": "ipython",
    "version": 3
   },
   "file_extension": ".py",
   "mimetype": "text/x-python",
   "name": "python",
   "nbconvert_exporter": "python",
   "pygments_lexer": "ipython3",
   "version": "3.7.11"
  }
 },
 "nbformat": 4,
 "nbformat_minor": 5
}
