{
 "cells": [
  {
   "cell_type": "code",
   "execution_count": 6,
   "id": "52e604c0",
   "metadata": {},
   "outputs": [
    {
     "name": "stdout",
     "output_type": "stream",
     "text": [
      "MEAN: 17.5\n"
     ]
    }
   ],
   "source": [
    "#mean\n",
    "def mean(list):\n",
    "    \n",
    "    sum=0\n",
    "    for i in list:\n",
    "        sum=sum+i\n",
    "        \n",
    "    mean=sum/len(list)\n",
    "    return mean\n",
    "list=(5,10,15,20,25,30)\n",
    "print(\"MEAN:\",mean(list))"
   ]
  },
  {
   "cell_type": "code",
   "execution_count": 7,
   "id": "155f7c4c",
   "metadata": {},
   "outputs": [
    {
     "name": "stdout",
     "output_type": "stream",
     "text": [
      "MEDIAN: 20\n"
     ]
    }
   ],
   "source": [
    "#median\n",
    "\n",
    "s=(5,10,15,20,25,30)\n",
    "x=int(len(s)/2)\n",
    "if x%2==0:\n",
    "    result=(s[x]+s[x+1]/2)\n",
    "else:\n",
    "    result=s[x]\n",
    "print(\"MEDIAN:\",result)    "
   ]
  },
  {
   "cell_type": "code",
   "execution_count": 8,
   "id": "f8f4193a",
   "metadata": {},
   "outputs": [
    {
     "name": "stdout",
     "output_type": "stream",
     "text": [
      "MODE: 10\n"
     ]
    }
   ],
   "source": [
    "#mode\n",
    "s=(5,10,10,15,20,25,30)\n",
    "d={}\n",
    "for x in s:\n",
    "    if x in d:\n",
    "        d[x]=d[x]+1\n",
    "    else:\n",
    "        d[x]=1\n",
    "maxx=0\n",
    "for x in d:\n",
    "    if(d[x]>maxx):\n",
    "        maxx=d[x]\n",
    "        answer=x\n",
    "print(\"MODE:\",answer)        "
   ]
  },
  {
   "cell_type": "code",
   "execution_count": 9,
   "id": "a1413e52",
   "metadata": {},
   "outputs": [
    {
     "name": "stdout",
     "output_type": "stream",
     "text": [
      "VARIANCE: 72.91666666666667\n"
     ]
    }
   ],
   "source": [
    "#variance\n",
    "def variance(x):\n",
    "    answer=mean(x)\n",
    "    \n",
    "    sum=0\n",
    "    for s in x:\n",
    "        sum+=(answer-s)**2\n",
    "        \n",
    "    return sum/len(x)\n",
    "x=(5,10,15,20,25,30)\n",
    "print(\"VARIANCE:\",variance(x))"
   ]
  },
  {
   "cell_type": "code",
   "execution_count": 10,
   "id": "83007515",
   "metadata": {},
   "outputs": [
    {
     "name": "stdout",
     "output_type": "stream",
     "text": [
      "STANDARD DEVIATION: 8.539125638299666\n"
     ]
    }
   ],
   "source": [
    "#standard deviation\n",
    "def standevi(x):\n",
    "    temp=variance(x)\n",
    "    return temp**0.5\n",
    "x=(5,10,15,20,25,30)\n",
    "print(\"STANDARD DEVIATION:\",standevi(x))"
   ]
  },
  {
   "cell_type": "code",
   "execution_count": null,
   "id": "ea9468e2",
   "metadata": {},
   "outputs": [],
   "source": []
  }
 ],
 "metadata": {
  "kernelspec": {
   "display_name": "Python 3 (ipykernel)",
   "language": "python",
   "name": "python3"
  },
  "language_info": {
   "codemirror_mode": {
    "name": "ipython",
    "version": 3
   },
   "file_extension": ".py",
   "mimetype": "text/x-python",
   "name": "python",
   "nbconvert_exporter": "python",
   "pygments_lexer": "ipython3",
   "version": "3.7.11"
  }
 },
 "nbformat": 4,
 "nbformat_minor": 5
}
