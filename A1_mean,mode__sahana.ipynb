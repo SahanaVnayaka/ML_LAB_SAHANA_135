{
 "cells": [
  {
   "cell_type": "code",
   "execution_count": 1,
   "id": "1184c415",
   "metadata": {},
   "outputs": [
    {
     "name": "stdout",
     "output_type": "stream",
     "text": [
      "SAHANA V\n"
     ]
    }
   ],
   "source": [
    "# print name\n",
    "print(\"SAHANA V\")"
   ]
  },
  {
   "cell_type": "code",
   "execution_count": 3,
   "id": "4d1258d4",
   "metadata": {},
   "outputs": [
    {
     "name": "stdout",
     "output_type": "stream",
     "text": [
      "Enter the value of a:10\n",
      "Enterthe value of b:2\n",
      "Sum : 12\n"
     ]
    }
   ],
   "source": [
    "# addition of numbers\n",
    "\n",
    "a=int(input(\"Enter the value of a:\"))\n",
    "b=int(input(\"Enterthe value of b:\"))\n",
    "print(\"Sum :\",(a+b))"
   ]
  },
  {
   "cell_type": "code",
   "execution_count": 5,
   "id": "6f6b7a22",
   "metadata": {},
   "outputs": [
    {
     "name": "stdout",
     "output_type": "stream",
     "text": [
      "Enter the size of array:3\n",
      "1\n",
      "20\n",
      "35\n",
      "Enter the search key:20\n",
      "Element found at position: 2\n"
     ]
    }
   ],
   "source": [
    "# linear search\n",
    "arr =[]\n",
    "n=int(input(\"Enter the size of array:\"))\n",
    "for i in range(0,n):\n",
    "    ele=int(input())\n",
    "    arr.append(ele)\n",
    "key=int(input(\"Enter the search key:\"))\n",
    "for i in range(0,n):\n",
    "    if(arr[i]==key):\n",
    "        print(\"Element found at position:\",(i+1))\n",
    "        break"
   ]
  },
  {
   "cell_type": "code",
   "execution_count": 7,
   "id": "2049c207",
   "metadata": {},
   "outputs": [
    {
     "name": "stdout",
     "output_type": "stream",
     "text": [
      "Enter the size of array:5\n",
      "1\n",
      "16\n",
      "18\n",
      "19\n",
      "20\n",
      "Enter the search key:19\n",
      "Element found at position: 4\n"
     ]
    }
   ],
   "source": [
    "# binary search\n",
    "arr =[]\n",
    "n=int(input(\"Enter the size of array:\"))\n",
    "for i in range(0,n):\n",
    "    ele=int(input())\n",
    "    arr.append(ele)\n",
    "key=int(input(\"Enter the search key:\"))\n",
    "l=0\n",
    "h=n\n",
    "while(l<=h):\n",
    "    mid=(int)((l+h)/2)\n",
    "    if(arr[mid]==key):\n",
    "        print(\"Element found at position:\",(mid+1))\n",
    "        break\n",
    "    elif(key>arr[mid]):\n",
    "        l=mid+1\n",
    "    else:\n",
    "        h=mid-1\n"
   ]
  },
  {
   "cell_type": "code",
   "execution_count": 8,
   "id": "29f326a2",
   "metadata": {},
   "outputs": [
    {
     "name": "stdout",
     "output_type": "stream",
     "text": [
      "Enter the size of array:5\n",
      "-1\n",
      "1\n",
      "2\n",
      "-8\n",
      "9\n",
      "[-8, -1, 1, 2, 9]\n"
     ]
    }
   ],
   "source": [
    "# selection sort\n",
    "arr =[]\n",
    "n=int(input(\"Enter the size of array:\"))\n",
    "for i in range(0,n):\n",
    "    ele=int(input())\n",
    "    arr.append(ele)\n",
    "\n",
    "pos=-1\n",
    "for i in range(0,n):\n",
    "    pos=i\n",
    "    for j in range(i+1,n):\n",
    "        if(arr[j]<arr[pos]):\n",
    "            pos=j\n",
    "    if(pos!=i):\n",
    "        temp=arr[i]\n",
    "        arr[i]=arr[pos]\n",
    "        arr[pos]=temp\n",
    "        \n",
    "print(arr)"
   ]
  },
  {
   "cell_type": "code",
   "execution_count": null,
   "id": "f378d30e",
   "metadata": {},
   "outputs": [],
   "source": []
  }
 ],
 "metadata": {
  "kernelspec": {
   "display_name": "Python 3 (ipykernel)",
   "language": "python",
   "name": "python3"
  },
  "language_info": {
   "codemirror_mode": {
    "name": "ipython",
    "version": 3
   },
   "file_extension": ".py",
   "mimetype": "text/x-python",
   "name": "python",
   "nbconvert_exporter": "python",
   "pygments_lexer": "ipython3",
   "version": "3.7.11"
  }
 },
 "nbformat": 4,
 "nbformat_minor": 5
}
